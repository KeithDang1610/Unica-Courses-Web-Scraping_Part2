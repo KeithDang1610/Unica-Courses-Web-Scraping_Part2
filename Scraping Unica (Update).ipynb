{
 "cells": [
  {
   "cell_type": "code",
   "execution_count": 2,
   "id": "75bc8cb8",
   "metadata": {},
   "outputs": [],
   "source": [
    "# Import necessary Libraryies\n",
    "import requests\n",
    "from selenium import webdriver\n",
    "from selenium.webdriver.common.keys import Keys\n",
    "from bs4 import BeautifulSoup\n",
    "import pandas as pd\n",
    "import time\n",
    "from selenium.webdriver.common.by import By\n",
    "from selenium.webdriver.support.wait import WebDriverWait\n",
    "from selenium.webdriver.support import expected_conditions as EC\n",
    "from selenium.common.exceptions import NoSuchElementException"
   ]
  },
  {
   "cell_type": "code",
   "execution_count": null,
   "id": "c0cc0b1e",
   "metadata": {},
   "outputs": [],
   "source": [
    "driver = webdriver.Chrome(r'C:\\Users\\DELL\\Desktop\\Python-project\\WEB SCRAPING\\chromedriver.exe')\n",
    "driver.get('https://unica.vn/donggia')"
   ]
  },
  {
   "cell_type": "code",
   "execution_count": null,
   "id": "95eb74f3",
   "metadata": {},
   "outputs": [],
   "source": [
    "soup = BeautifulSoup(driver.page_source, 'lxml')\n",
    "df = pd.DataFrame({'Link':[''], 'Name':[''], 'Teacher':[''],'Image':[''],'Price':[''],'Ratings':[''],'Sales':[''],'Origin_price':['']}) \n",
    "#button = driver.find_element('xpath', '//*[@id=\"loadMore283\"]')\n",
    "while True:\n",
    "    #wait = WebDriverWait(driver, 10);\n",
    "    #button = wait.until(EC.element_to_be_clickable((By.ID,\"loadMore283\")));\n",
    "    try:\n",
    "        btn = driver.find_element('xpath','//*[@id=\"loadMore283\"]')\n",
    "       # class_name = btn.get_attribute(\"class\")\n",
    "        driver.execute_script (\"arguments[0].click();\",btn)\n",
    "        time.sleep(5)\n",
    "    except NoSuchElementException:\n",
    "        print(\"element does not exist\")\n",
    "        break\n",
    "\n",
    "courses = soup.find_all('div',class_ = \"dg-box-course\")\n",
    "for course in courses:\n",
    "    name = course.find('a', class_='dg-title-box').text\n",
    "    link = course.find('a', class_='dg-title-box').get('href')\n",
    "    teacher = course.find('a', class_='dg-bigname-gv').text\n",
    "    image = course.find('img', class_='img-responsive').get('src')\n",
    "    price = course.find('li', class_ ='dg-price-net pull-right').text\n",
    "    ori_price = course.find('div', class_=\"text\").text\n",
    "    star = len(course.find_all('li',class_=\"color_yellow\"))\n",
    "    mems = course.find('div', 'dg-txt-mem').get('strong').text\n",
    "    df = df.append({'Link':link, 'Name':name, 'Teacher':teacher,'Image':image,'Price':price,'Ratings':star,'Sales':mems,'Origin_price':ori_price}, ignore_index=True) \n"
   ]
  },
  {
   "cell_type": "code",
   "execution_count": null,
   "id": "c733c2ee",
   "metadata": {},
   "outputs": [],
   "source": [
    "df = pd.DataFrame({'Link':[''], 'Name':[''], 'Teacher':[''],'Image':[''],'Price':[''],'Ratings':[''],'Sales':[''],'Origin_price':['']})\n",
    "courses = soup.find_all('div',class_ = \"dg-box-course\")\n",
    "for course in courses:\n",
    "    name = course.find('a', class_='dg-title-box').text\n",
    "    link = course.find('a', class_='dg-title-box').get('href')\n",
    "    teacher = course.find('a', class_='dg-bigname-gv').text\n",
    "    image = course.find('img', class_='img-responsive').get('src')\n",
    "    price = course.find('li', class_ ='dg-price-net pull-right').text\n",
    "    ori_price = course.find('div', class_=\"text\").text\n",
    "    star = len(course.find_all('li',class_=\"color_yellow\"))\n",
    "    mems = course.find('div', 'dg-txt-mem').text.replace('\\n','').replace(' ','')[4:]\n",
    "    df = df.append({'Link':link, 'Name':name, 'Teacher':teacher,'Image':image,'Price':price,'Ratings':star,'Sales':mems,'Origin_price':ori_price}, ignore_index=True)"
   ]
  },
  {
   "cell_type": "code",
   "execution_count": null,
   "id": "51cd81c5",
   "metadata": {},
   "outputs": [],
   "source": [
    "df = pd.DataFrame({'Link':[''], 'Name':[''], 'Teacher':[''],'Image':[''],'Price':[''],'Ratings':[''],'Sales':[''],'Origin_price':['']})\n",
    "df=pd.read_excel(r'C:\\Users\\DELL\\Desktop\\unica_khoahocnoibat.xlsx')\n",
    "df"
   ]
  },
  {
   "cell_type": "code",
   "execution_count": null,
   "id": "aa91171a",
   "metadata": {},
   "outputs": [],
   "source": [
    "df=df.drop(0)"
   ]
  },
  {
   "cell_type": "code",
   "execution_count": null,
   "id": "a5feb658",
   "metadata": {},
   "outputs": [],
   "source": [
    "df['Price'] = df['Price'].astype(str).apply(lambda x: x.strip('đ'))\n",
    "df['Price']= df['Price'].apply(lambda x: float(x.replace('.', ''))).astype(float)\n",
    "df['Price']\n"
   ]
  },
  {
   "cell_type": "code",
   "execution_count": null,
   "id": "b96c20e1",
   "metadata": {},
   "outputs": [],
   "source": [
    "df['Price']"
   ]
  },
  {
   "cell_type": "markdown",
   "id": "8c109a93",
   "metadata": {},
   "source": [
    "## SCRAPING KHÓA HỌC NỔI BẬT UNICA\n",
    "## (Scrapping out standing courses on this Unica platform)"
   ]
  },
  {
   "cell_type": "code",
   "execution_count": null,
   "id": "fbbcdd26",
   "metadata": {},
   "outputs": [],
   "source": [
    "# using chrome driver for get the source of page on chrome web browser\n",
    "driver = webdriver.Chrome(r'C:\\Users\\DELL\\Desktop\\Python-project\\WEB SCRAPING\\chromedriver.exe')\n",
    "driver.get('https://unica.vn/khoa-hoc-noi-bat')\n",
    "\n",
    "for i in range(0,10):\n",
    "    try:\n",
    "        btn = driver.find_element('xpath','//*[@id=\"btn-load-more\"]')\n",
    "       # class_name = btn.get_attribute(\"class\")\n",
    "        driver.execute_script (\"arguments[0].click();\",btn)\n",
    "        time.sleep(5)\n",
    "    except NoSuchElementException:\n",
    "        print(\"element does not exist\")\n",
    "        break"
   ]
  },
  {
   "cell_type": "code",
   "execution_count": null,
   "id": "289435d7",
   "metadata": {},
   "outputs": [],
   "source": [
    "# use bs4 for scraping all info of page\n",
    "soup = BeautifulSoup(driver.page_source, 'lxml')\n",
    "df = pd.DataFrame({'Link':[''], 'Name':[''], 'Teacher':[''],'Price':[''],'Ratings':[''],'Sales':[''],'Origin_price':['']})\n",
    "courses = soup.find_all('div',class_ = \"col-md-3 col-sm-6 col-xs-12 form-group\")\n",
    "for course in courses:\n",
    "    name = course.find('h3', class_='title-course').text\n",
    "    link = course.find('a', class_='course-box-slider pop').get('href')\n",
    "    teacher = course.find('div', class_='name-gv').text\n",
    "    #image = course.find('img', class_='img-responsive ').get('src')\n",
    "    price = course.find('span', class_ ='price-a').text\n",
    "    ori_price = course.find('span', class_=\"price-b\").text\n",
    "    star = len(course.find_all('i',class_=\"fa fa-star co-or\"))\n",
    "    mems = course.find('span', 'star-rate').text\n",
    "    df = df.append({'Link':link, 'Name':name, 'Teacher':teacher,'Price':price,'Ratings':star,'Sales':mems,'Origin_price':ori_price}, ignore_index=True) \n",
    "# the scraped results will be stored in first data frame table named df (with all the field columns in the dictionary above)"
   ]
  },
  {
   "cell_type": "code",
   "execution_count": null,
   "id": "33e15457",
   "metadata": {},
   "outputs": [],
   "source": [
    "# View the results\n",
    "df"
   ]
  },
  {
   "cell_type": "code",
   "execution_count": null,
   "id": "c9725d82",
   "metadata": {},
   "outputs": [],
   "source": [
    "# upload the table need to be update \n",
    "dftt =pd.read_csv(r'C:\\Users\\DELL\\Desktop\\unica\\total_update.csv')\n",
    "dftt"
   ]
  },
  {
   "cell_type": "code",
   "execution_count": null,
   "id": "631ee6bc",
   "metadata": {},
   "outputs": [],
   "source": [
    "\n",
    "for value in df['Name']:\n",
    "    if value in dftt['Tên'].values:\n",
    "        # Get the index of the row where the value exists in Table 2\n",
    "        row_index = dftt[dftt['Tên'] == value].index[0]\n",
    "        \n",
    "        # Add a value to another column at the located row in Table 2\n",
    "        dftt.at[row_index, 'Danh mục'] = dftt.at[row_index, 'Danh mục']+', Top bán chạy'"
   ]
  },
  {
   "cell_type": "code",
   "execution_count": null,
   "id": "7b10d9aa",
   "metadata": {},
   "outputs": [],
   "source": [
    "dftt['Danh mục'][0]"
   ]
  },
  {
   "cell_type": "code",
   "execution_count": null,
   "id": "151369f2",
   "metadata": {},
   "outputs": [],
   "source": [
    "dftt.to_csv(r'C:\\Users\\DELL\\Desktop\\unica\\total.csv')"
   ]
  },
  {
   "cell_type": "markdown",
   "id": "0f6e59c3",
   "metadata": {},
   "source": [
    "# cập nhật giá khóa học\n",
    "# (Updating the courses prices)"
   ]
  },
  {
   "cell_type": "code",
   "execution_count": null,
   "id": "1021c34a",
   "metadata": {},
   "outputs": [],
   "source": [
    "driver = webdriver.Chrome(r'C:\\Users\\DELL\\Desktop\\Python-project\\WEB SCRAPING\\chromedriver.exe')\n",
    "driver.get('https://unica.vn/khoa-hoc-noi-bat')\n",
    "\n",
    "while True:\n",
    "    try:\n",
    "        btn = driver.find_element('xpath','//*[@id=\"btn-load-more\"]')\n",
    "       # class_name = btn.get_attribute(\"class\")\n",
    "        driver.execute_script (\"arguments[0].click();\",btn)\n",
    "        time.sleep(5)\n",
    "    except NoSuchElementException:\n",
    "        print(\"element does not exist\")\n",
    "        break"
   ]
  },
  {
   "cell_type": "code",
   "execution_count": null,
   "id": "ee4cc716",
   "metadata": {},
   "outputs": [],
   "source": [
    "# I will scrape the data again to collect exactly prices and more infomation\n",
    "df = pd.DataFrame({'Link':[''], 'Name':[''], 'Teacher':[''],'Price':[''],'Ratings':[''],'Sales':[''],'Origin_price':['']})\n",
    "soup = BeautifulSoup(driver.page_source, 'lxml')\n",
    "courses = soup.find_all('div',class_ = \"col-md-3 col-sm-6 col-xs-12 form-group\")\n",
    "for course in courses:\n",
    "    name = course.find('h3', class_='title-course').text\n",
    "    link = course.find('a', class_='course-box-slider pop').get('href')\n",
    "    teacher = course.find('div', class_='name-gv').text\n",
    "    #image = course.find('img', class_='img-responsive ').get('src')\n",
    "    price = course.find('span', class_ ='price-a').text\n",
    "    ori_price = course.find('span', class_=\"price-b\").text\n",
    "    star = len(course.find_all('i',class_=\"fa fa-star co-or\"))\n",
    "    mems = course.find('span', 'star-rate').text\n",
    "    df = df.append({'Link':link, 'Name':name, 'Teacher':teacher,'Price':price,'Ratings':star,'Sales':mems,'Origin_price':ori_price}, ignore_index=True) \n"
   ]
  },
  {
   "cell_type": "code",
   "execution_count": null,
   "id": "2180a7b3",
   "metadata": {},
   "outputs": [],
   "source": [
    "# Clean the wrong formats and errors in the raw data\n",
    "df.dropna(inplace=True)\n",
    "df['Origin_price']=df['Origin_price'].apply(lambda x: x.replace('\\n','').replace('đ','').replace('.',''))\n",
    "df['Price']=df['Price'].apply(lambda x: x.replace('\\n','').replace('đ','').replace('.',''))\n"
   ]
  },
  {
   "cell_type": "code",
   "execution_count": null,
   "id": "46592f11",
   "metadata": {},
   "outputs": [],
   "source": [
    "# convert data types\n",
    "df = df.drop(0)\n",
    "df['Origin_price']=df['Origin_price'].astype(int)\n",
    "df['Price']=df['Price'].astype(int)"
   ]
  },
  {
   "cell_type": "code",
   "execution_count": null,
   "id": "6dae477c",
   "metadata": {},
   "outputs": [],
   "source": [
    "# check the price\n",
    "df['Origin_price'][835]"
   ]
  },
  {
   "cell_type": "code",
   "execution_count": null,
   "id": "f8339bfa",
   "metadata": {},
   "outputs": [],
   "source": [
    "# read the old products (courses) file\n",
    "dftt =pd.read_csv(r'C:\\Users\\DELL\\Desktop\\unica\\total.csv')\n",
    "dftt"
   ]
  },
  {
   "cell_type": "code",
   "execution_count": null,
   "id": "a3c86d47",
   "metadata": {},
   "outputs": [],
   "source": [
    "# I use this file multiple times, so the lib need to be called again\n",
    "# update the price from new data to old data file\n",
    "import pandas as pd\n",
    "# Compare the 'Tên' column in df with dftt\n",
    "for index, row in df.iterrows():\n",
    "    ten = row['Name']\n",
    "    matching_row = dftt[dftt['Tên'] == ten]\n",
    "    \n",
    "    if not matching_row.empty:\n",
    "        gia_ban_thuong = row['Origin_price']\n",
    "        gia_khuyen_mai = row['Price']\n",
    "        \n",
    "        dftt.loc[matching_row.index, 'Giá bán thường'] = gia_ban_thuong\n",
    "        dftt.loc[matching_row.index, 'Giá khuyến mãi'] = gia_khuyen_mai"
   ]
  },
  {
   "cell_type": "code",
   "execution_count": null,
   "id": "2e0250ba",
   "metadata": {},
   "outputs": [],
   "source": [
    "for index, row in dftt.iterrows():\n",
    "    if pd.isna(row['Giá khuyến mãi']):\n",
    "        row['Giá khuyến mãi'] == row['Giá bán thường']"
   ]
  },
  {
   "cell_type": "code",
   "execution_count": null,
   "id": "ceb357db",
   "metadata": {},
   "outputs": [],
   "source": [
    "index = dftt[dftt['Giá khuyến mãi'].isna() == True]\n",
    "index"
   ]
  },
  {
   "cell_type": "code",
   "execution_count": null,
   "id": "91cea189",
   "metadata": {},
   "outputs": [],
   "source": [
    "dftt['Giá khuyến mãi'][1643]"
   ]
  },
  {
   "cell_type": "code",
   "execution_count": null,
   "id": "43d87021",
   "metadata": {},
   "outputs": [],
   "source": [
    "dftt.to_csv(r'C:\\Users\\DELL\\Desktop\\unica\\total_update.csv')"
   ]
  },
  {
   "cell_type": "code",
   "execution_count": null,
   "id": "611522c8",
   "metadata": {},
   "outputs": [],
   "source": [
    "#check the updated result\n",
    "value = 'Đọc sách siêu tốc'\n",
    "index = dftt[dftt['Tên']==value]\n",
    "index"
   ]
  },
  {
   "cell_type": "code",
   "execution_count": null,
   "id": "1a113e5a",
   "metadata": {},
   "outputs": [],
   "source": [
    "type(dftt['Giá khuyến mãi'][835])"
   ]
  },
  {
   "cell_type": "code",
   "execution_count": null,
   "id": "c0638b30",
   "metadata": {},
   "outputs": [],
   "source": [
    "dftt.columns"
   ]
  },
  {
   "cell_type": "markdown",
   "id": "362af856",
   "metadata": {},
   "source": [
    "# Cập nhật UNICA (New Version)\n",
    "# (The new verion data updating because of the change of the website structure"
   ]
  },
  {
   "cell_type": "code",
   "execution_count": null,
   "id": "3af14859",
   "metadata": {},
   "outputs": [],
   "source": [
    "# because of the accurate rate of the first version, i decided to change a new version \n",
    "#that I only need to scrape 3 fields(name of course, original price and promotional price)"
   ]
  },
  {
   "cell_type": "code",
   "execution_count": 1,
   "id": "efd9650d",
   "metadata": {},
   "outputs": [],
   "source": [
    "import requests\n",
    "from selenium import webdriver\n",
    "from selenium.webdriver.common.keys import Keys\n",
    "from bs4 import BeautifulSoup\n",
    "import pandas as pd\n",
    "import time\n",
    "from selenium.webdriver.common.by import By\n",
    "from selenium.webdriver.support.wait import WebDriverWait\n",
    "from selenium.webdriver.support import expected_conditions as EC\n",
    "from selenium.common.exceptions import NoSuchElementException"
   ]
  },
  {
   "cell_type": "code",
   "execution_count": 4,
   "id": "dd6fb0cd",
   "metadata": {},
   "outputs": [
    {
     "name": "stderr",
     "output_type": "stream",
     "text": [
      "C:\\Users\\DELL\\AppData\\Local\\Temp/ipykernel_6208/2812542645.py:1: DeprecationWarning: executable_path has been deprecated, please pass in a Service object\n",
      "  driver = webdriver.Chrome(r'C:\\Users\\DELL\\Desktop\\Python-project\\WEB SCRAPING\\chromedriver.exe')\n"
     ]
    }
   ],
   "source": [
    "driver = webdriver.Chrome(r'C:\\Users\\DELL\\Desktop\\Python-project\\WEB SCRAPING\\chromedriver.exe')"
   ]
  },
  {
   "cell_type": "code",
   "execution_count": 5,
   "id": "ca681d17",
   "metadata": {},
   "outputs": [
    {
     "name": "stdout",
     "output_type": "stream",
     "text": [
      "element does not exist\n",
      "element does not exist\n",
      "element does not exist\n",
      "element does not exist\n",
      "element does not exist\n",
      "element does not exist\n",
      "element does not exist\n",
      "element does not exist\n",
      "element does not exist\n",
      "element does not exist\n",
      "element does not exist\n"
     ]
    }
   ],
   "source": [
    "df_tt = pd.DataFrame({'Tên':[''], 'Giá bán thường':[''],'Giá khuyến mãi':['']})\n",
    "for i in range(0,11):\n",
    "    driver.get('https://unica.vn')\n",
    "    btn1 = driver.find_element('xpath','//*[@id=\"today-learn-home\"]/ul/li[' + str(i+1) + ']/a')\n",
    "   # class_name = btn.get_attribute(\"class\")\n",
    "    driver.execute_script (\"arguments[0].click();\",btn1)\n",
    "    time.sleep(5)\n",
    "    \n",
    "    while True:\n",
    "        soup = BeautifulSoup(driver.page_source, 'lxml')\n",
    "        courses = soup.find_all('div', class_='detail-course')\n",
    "        for course in courses:\n",
    "            try:\n",
    "                name = course.find('h3', class_='name-course').text\n",
    "                price =course.find('div', class_='price_sale').text\n",
    "                ori_price = course.find('div', class_='price_origin').text\n",
    "            except:\n",
    "                pass\n",
    "            df_tt = df_tt.append({'Tên':name, 'Giá bán thường':ori_price, 'Giá khuyến mãi':price},ignore_index=True)\n",
    "        try:\n",
    "            btn2 = driver.find_element('xpath', '//*[@id=\"list_product\"]/div[2]/ul/li[7]/a')\n",
    "            driver.execute_script (\"arguments[0].click();\",btn2)\n",
    "            time.sleep(5)\n",
    "        except NoSuchElementException:\n",
    "            print(\"element does not exist\")\n",
    "            break\n",
    "\n",
    "df_tt = df_tt.drop(0)\n",
    "df_tt['Giá khuyến mãi']=df_tt['Giá khuyến mãi'].apply(lambda x: int(x.replace('\\n','').replace('                                                ','').replace('đ','').replace('.','')))\n",
    "df_tt['Giá bán thường']=df_tt['Giá bán thường'].apply(lambda x: int(x.replace('\\n','').replace('                                                ','').replace('đ','').replace('.','')))"
   ]
  },
  {
   "cell_type": "code",
   "execution_count": 6,
   "id": "bb87311d",
   "metadata": {},
   "outputs": [
    {
     "data": {
      "text/html": [
       "<div>\n",
       "<style scoped>\n",
       "    .dataframe tbody tr th:only-of-type {\n",
       "        vertical-align: middle;\n",
       "    }\n",
       "\n",
       "    .dataframe tbody tr th {\n",
       "        vertical-align: top;\n",
       "    }\n",
       "\n",
       "    .dataframe thead th {\n",
       "        text-align: right;\n",
       "    }\n",
       "</style>\n",
       "<table border=\"1\" class=\"dataframe\">\n",
       "  <thead>\n",
       "    <tr style=\"text-align: right;\">\n",
       "      <th></th>\n",
       "      <th>Tên</th>\n",
       "      <th>Giá bán thường</th>\n",
       "      <th>Giá khuyến mãi</th>\n",
       "    </tr>\n",
       "  </thead>\n",
       "  <tbody>\n",
       "    <tr>\n",
       "      <th>1</th>\n",
       "      <td>Học tiếng Nhật thật dễ</td>\n",
       "      <td>700000</td>\n",
       "      <td>549000</td>\n",
       "    </tr>\n",
       "    <tr>\n",
       "      <th>2</th>\n",
       "      <td>Học giỏi Tiếng Anh toàn diện: Nghe, Nói, Đọc, ...</td>\n",
       "      <td>600000</td>\n",
       "      <td>399000</td>\n",
       "    </tr>\n",
       "    <tr>\n",
       "      <th>3</th>\n",
       "      <td>TOEIC thần tốc dành cho người mất gốc</td>\n",
       "      <td>600000</td>\n",
       "      <td>299000</td>\n",
       "    </tr>\n",
       "    <tr>\n",
       "      <th>4</th>\n",
       "      <td>Tự học tiếng Trung cơ bản</td>\n",
       "      <td>800000</td>\n",
       "      <td>299000</td>\n",
       "    </tr>\n",
       "    <tr>\n",
       "      <th>5</th>\n",
       "      <td>Học giao tiếp tiếng Hàn thật dễ</td>\n",
       "      <td>800000</td>\n",
       "      <td>299000</td>\n",
       "    </tr>\n",
       "  </tbody>\n",
       "</table>\n",
       "</div>"
      ],
      "text/plain": [
       "                                                 Tên  Giá bán thường  \\\n",
       "1                             Học tiếng Nhật thật dễ          700000   \n",
       "2  Học giỏi Tiếng Anh toàn diện: Nghe, Nói, Đọc, ...          600000   \n",
       "3              TOEIC thần tốc dành cho người mất gốc          600000   \n",
       "4                          Tự học tiếng Trung cơ bản          800000   \n",
       "5                    Học giao tiếp tiếng Hàn thật dễ          800000   \n",
       "\n",
       "   Giá khuyến mãi  \n",
       "1          549000  \n",
       "2          399000  \n",
       "3          299000  \n",
       "4          299000  \n",
       "5          299000  "
      ]
     },
     "execution_count": 6,
     "metadata": {},
     "output_type": "execute_result"
    }
   ],
   "source": [
    "df_tt.head()"
   ]
  },
  {
   "cell_type": "code",
   "execution_count": 5,
   "id": "6d61d7f6",
   "metadata": {},
   "outputs": [],
   "source": [
    "df_tt.to_csv(r'C:\\Users\\DELL\\Desktop\\unica\\file-csv-courses\\total_update_price.csv')"
   ]
  },
  {
   "cell_type": "code",
   "execution_count": 3,
   "id": "d8f0af79",
   "metadata": {},
   "outputs": [],
   "source": [
    "df_tt= pd.read_csv(r'C:\\Users\\DELL\\Desktop\\unica\\file-csv-courses\\total_update_price.csv')"
   ]
  },
  {
   "cell_type": "code",
   "execution_count": 4,
   "id": "d00f62e8",
   "metadata": {},
   "outputs": [
    {
     "data": {
      "text/html": [
       "<div>\n",
       "<style scoped>\n",
       "    .dataframe tbody tr th:only-of-type {\n",
       "        vertical-align: middle;\n",
       "    }\n",
       "\n",
       "    .dataframe tbody tr th {\n",
       "        vertical-align: top;\n",
       "    }\n",
       "\n",
       "    .dataframe thead th {\n",
       "        text-align: right;\n",
       "    }\n",
       "</style>\n",
       "<table border=\"1\" class=\"dataframe\">\n",
       "  <thead>\n",
       "    <tr style=\"text-align: right;\">\n",
       "      <th></th>\n",
       "      <th>Unnamed: 0</th>\n",
       "      <th>Tên</th>\n",
       "      <th>Giá bán thường</th>\n",
       "      <th>Giá khuyến mãi</th>\n",
       "    </tr>\n",
       "  </thead>\n",
       "  <tbody>\n",
       "    <tr>\n",
       "      <th>0</th>\n",
       "      <td>1</td>\n",
       "      <td>Học giỏi Tiếng Anh toàn diện: Nghe, Nói, Đọc, ...</td>\n",
       "      <td>600000</td>\n",
       "      <td>399000</td>\n",
       "    </tr>\n",
       "    <tr>\n",
       "      <th>1</th>\n",
       "      <td>2</td>\n",
       "      <td>Học tiếng Nhật thật dễ</td>\n",
       "      <td>700000</td>\n",
       "      <td>549000</td>\n",
       "    </tr>\n",
       "    <tr>\n",
       "      <th>2</th>\n",
       "      <td>3</td>\n",
       "      <td>Vui Học Tiếng Hàn</td>\n",
       "      <td>800000</td>\n",
       "      <td>599000</td>\n",
       "    </tr>\n",
       "    <tr>\n",
       "      <th>3</th>\n",
       "      <td>4</td>\n",
       "      <td>TOEIC thần tốc dành cho người mất gốc</td>\n",
       "      <td>600000</td>\n",
       "      <td>499000</td>\n",
       "    </tr>\n",
       "    <tr>\n",
       "      <th>4</th>\n",
       "      <td>5</td>\n",
       "      <td>Tự học tiếng Trung cơ bản</td>\n",
       "      <td>800000</td>\n",
       "      <td>499000</td>\n",
       "    </tr>\n",
       "    <tr>\n",
       "      <th>...</th>\n",
       "      <td>...</td>\n",
       "      <td>...</td>\n",
       "      <td>...</td>\n",
       "      <td>...</td>\n",
       "    </tr>\n",
       "    <tr>\n",
       "      <th>1608</th>\n",
       "      <td>1609</td>\n",
       "      <td>Quay + edit VIDEO &amp; Lên Kịch Bản từ Smartphone</td>\n",
       "      <td>500000</td>\n",
       "      <td>299000</td>\n",
       "    </tr>\n",
       "    <tr>\n",
       "      <th>1609</th>\n",
       "      <td>1610</td>\n",
       "      <td>Giúp con tự lập theo phong cách người Nhật</td>\n",
       "      <td>600000</td>\n",
       "      <td>499000</td>\n",
       "    </tr>\n",
       "    <tr>\n",
       "      <th>1610</th>\n",
       "      <td>1611</td>\n",
       "      <td>Tắm bé - 10 ngày vàng chăm sóc trẻ sơ sinh</td>\n",
       "      <td>700000</td>\n",
       "      <td>499000</td>\n",
       "    </tr>\n",
       "    <tr>\n",
       "      <th>1611</th>\n",
       "      <td>1612</td>\n",
       "      <td>Thai giáo từ trái tim nâng cấp</td>\n",
       "      <td>1000000</td>\n",
       "      <td>399000</td>\n",
       "    </tr>\n",
       "    <tr>\n",
       "      <th>1612</th>\n",
       "      <td>1613</td>\n",
       "      <td>Toán tư duy Soroban cho bé 4-12 tuổi</td>\n",
       "      <td>800000</td>\n",
       "      <td>399000</td>\n",
       "    </tr>\n",
       "  </tbody>\n",
       "</table>\n",
       "<p>1613 rows × 4 columns</p>\n",
       "</div>"
      ],
      "text/plain": [
       "      Unnamed: 0                                                Tên  \\\n",
       "0              1  Học giỏi Tiếng Anh toàn diện: Nghe, Nói, Đọc, ...   \n",
       "1              2                             Học tiếng Nhật thật dễ   \n",
       "2              3                                  Vui Học Tiếng Hàn   \n",
       "3              4              TOEIC thần tốc dành cho người mất gốc   \n",
       "4              5                          Tự học tiếng Trung cơ bản   \n",
       "...          ...                                                ...   \n",
       "1608        1609     Quay + edit VIDEO & Lên Kịch Bản từ Smartphone   \n",
       "1609        1610         Giúp con tự lập theo phong cách người Nhật   \n",
       "1610        1611         Tắm bé - 10 ngày vàng chăm sóc trẻ sơ sinh   \n",
       "1611        1612                     Thai giáo từ trái tim nâng cấp   \n",
       "1612        1613               Toán tư duy Soroban cho bé 4-12 tuổi   \n",
       "\n",
       "      Giá bán thường  Giá khuyến mãi  \n",
       "0             600000          399000  \n",
       "1             700000          549000  \n",
       "2             800000          599000  \n",
       "3             600000          499000  \n",
       "4             800000          499000  \n",
       "...              ...             ...  \n",
       "1608          500000          299000  \n",
       "1609          600000          499000  \n",
       "1610          700000          499000  \n",
       "1611         1000000          399000  \n",
       "1612          800000          399000  \n",
       "\n",
       "[1613 rows x 4 columns]"
      ]
     },
     "execution_count": 4,
     "metadata": {},
     "output_type": "execute_result"
    }
   ],
   "source": [
    "df_tt"
   ]
  },
  {
   "cell_type": "code",
   "execution_count": 21,
   "id": "140ab6ad",
   "metadata": {},
   "outputs": [],
   "source": [
    "df_tt.to_csv(r'C:\\Users\\DELL\\Desktop\\unica\\file-csv-courses\\total_update_price.csv')"
   ]
  },
  {
   "cell_type": "code",
   "execution_count": 8,
   "id": "c62ed895",
   "metadata": {},
   "outputs": [],
   "source": [
    "dftt =pd.read_csv(r'C:\\Users\\DELL\\Desktop\\unica\\file-csv-courses\\total.csv')\n",
    "for index, row in df_tt.iterrows():\n",
    "    ten = row['Tên']\n",
    "    matching_row = dftt[dftt['Tên'] == ten]\n",
    "    \n",
    "    if not matching_row.empty:\n",
    "        gia_ban_thuong = row['Giá bán thường']\n",
    "        gia_khuyen_mai = row['Giá khuyến mãi']\n",
    "        \n",
    "        dftt.loc[matching_row.index, 'Giá bán thường'] = gia_ban_thuong\n",
    "        dftt.loc[matching_row.index, 'Giá khuyến mãi'] = gia_khuyen_mai"
   ]
  },
  {
   "cell_type": "code",
   "execution_count": 9,
   "id": "32148151",
   "metadata": {},
   "outputs": [],
   "source": [
    "dftt= dftt.drop('Unnamed: 0', axis=1)\n",
    "dftt.to_csv(r'C:\\Users\\DELL\\Desktop\\unica\\file-csv-courses\\total.csv')"
   ]
  },
  {
   "cell_type": "code",
   "execution_count": 11,
   "id": "594befb5",
   "metadata": {},
   "outputs": [],
   "source": [
    "df=pd.read_csv(r'C:\\Users\\DELL\\Desktop\\unica\\file-csv-courses\\total.csv')"
   ]
  },
  {
   "cell_type": "code",
   "execution_count": 12,
   "id": "1e5515d0",
   "metadata": {},
   "outputs": [],
   "source": [
    "df_unique = df.drop_duplicates(subset=['Tên'], keep='first')    "
   ]
  },
  {
   "cell_type": "code",
   "execution_count": 13,
   "id": "d6b365f6",
   "metadata": {},
   "outputs": [
    {
     "data": {
      "text/plain": [
       "1522    Giảng Viên > Nguyễn Hiếu, Sức Khỏe & Cuộc Sống...\n",
       "Name: Danh mục, dtype: object"
      ]
     },
     "execution_count": 13,
     "metadata": {},
     "output_type": "execute_result"
    }
   ],
   "source": [
    "df_unique[df_unique['Tên']=='Bí mật Thiền ứng dụng thay đổi cuộc đời']['Danh mục']"
   ]
  },
  {
   "cell_type": "code",
   "execution_count": 14,
   "id": "63703107",
   "metadata": {},
   "outputs": [],
   "source": [
    "df_unique.to_csv(r'C:\\Users\\DELL\\Desktop\\unica\\file-csv-courses\\total.csv')"
   ]
  },
  {
   "cell_type": "code",
   "execution_count": 8,
   "id": "35552d7e",
   "metadata": {},
   "outputs": [],
   "source": [
    "dftt.to_csv(r'C:\\Users\\DELL\\Desktop\\unica\\file-csv-courses\\total.csv')"
   ]
  },
  {
   "cell_type": "code",
   "execution_count": null,
   "id": "8ce86394",
   "metadata": {},
   "outputs": [],
   "source": []
  }
 ],
 "metadata": {
  "kernelspec": {
   "display_name": "Python 3 (ipykernel)",
   "language": "python",
   "name": "python3"
  },
  "language_info": {
   "codemirror_mode": {
    "name": "ipython",
    "version": 3
   },
   "file_extension": ".py",
   "mimetype": "text/x-python",
   "name": "python",
   "nbconvert_exporter": "python",
   "pygments_lexer": "ipython3",
   "version": "3.9.7"
  }
 },
 "nbformat": 4,
 "nbformat_minor": 5
}
